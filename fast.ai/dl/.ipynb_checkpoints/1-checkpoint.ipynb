{
 "cells": [
  {
   "cell_type": "markdown",
   "id": "57bdf894-27b7-47b9-89a2-6a4b4d3a569c",
   "metadata": {
    "tags": []
   },
   "source": [
    "## Step 1: Download images of birds and non-birds"
   ]
  },
  {
   "cell_type": "code",
   "execution_count": 37,
   "id": "0d1a9b68-b498-42b0-a70a-80c53ca2f90f",
   "metadata": {},
   "outputs": [],
   "source": [
    "from duckduckgo_search import ddg_images  # Function to search for Images\n",
    "from fastcore.all import *  # L and itemgot etc\n",
    "from fastdownload import download_url  # Download from url\n",
    "from fastai.vision.all import *  # view images etc\n",
    "\n"
   ]
  },
  {
   "cell_type": "code",
   "execution_count": null,
   "id": "f02c0da1-7dbb-4eff-8116-ac2538902d59",
   "metadata": {},
   "outputs": [],
   "source": []
  }
 ],
 "metadata": {
  "kernelspec": {
   "display_name": "Python 3 (ipykernel)",
   "language": "python",
   "name": "python3"
  },
  "language_info": {
   "codemirror_mode": {
    "name": "ipython",
    "version": 3
   },
   "file_extension": ".py",
   "mimetype": "text/x-python",
   "name": "python",
   "nbconvert_exporter": "python",
   "pygments_lexer": "ipython3",
   "version": "3.10.9"
  }
 },
 "nbformat": 4,
 "nbformat_minor": 5
}
