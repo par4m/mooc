{
 "cells": [
  {
   "cell_type": "code",
   "execution_count": 15,
   "id": "14969ae8-ceb8-44d9-82c5-000da7a2517f",
   "metadata": {},
   "outputs": [
    {
     "name": "stdout",
     "output_type": "stream",
     "text": [
      "Param\n"
     ]
    }
   ],
   "source": [
    "print(\"Param\")"
   ]
  },
  {
   "cell_type": "code",
   "execution_count": 16,
   "id": "b8f5ff19-277b-4e22-940d-05292417eea2",
   "metadata": {},
   "outputs": [
    {
     "name": "stdout",
     "output_type": "stream",
     "text": [
      "Param\n"
     ]
    }
   ],
   "source": [
    "      print(\"Param\")"
   ]
  },
  {
   "cell_type": "code",
   "execution_count": null,
   "id": "9d3b55cd-31ce-4d8c-b67f-e5bbda0299dc",
   "metadata": {},
   "outputs": [],
   "source": []
  }
 ],
 "metadata": {
  "kernelspec": {
   "display_name": "Python 3 (ipykernel)",
   "language": "python",
   "name": "python3"
  },
  "language_info": {
   "codemirror_mode": {
    "name": "ipython",
    "version": 3
   },
   "file_extension": ".py",
   "mimetype": "text/x-python",
   "name": "python",
   "nbconvert_exporter": "python",
   "pygments_lexer": "ipython3",
   "version": "3.10.9"
  }
 },
 "nbformat": 4,
 "nbformat_minor": 5
}
