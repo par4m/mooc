{
 "cells": [
  {
   "cell_type": "markdown",
   "id": "96c16e4b-2890-457f-aec8-94f19ec477a9",
   "metadata": {},
   "source": [
    "# Make Sure to have latest version of fastai and duckduckgo_search\n",
    "- U :: "
   ]
  },
  {
   "cell_type": "code",
   "execution_count": 22,
   "id": "80b77a8f-a69a-4c88-833e-4c6d614dde09",
   "metadata": {},
   "outputs": [],
   "source": [
    "!pip install -Uqq fastai duckduckgo_search"
   ]
  },
  {
   "cell_type": "code",
   "execution_count": null,
   "id": "05b65965-4953-4fa9-b2b3-30502236cb95",
   "metadata": {},
   "outputs": [],
   "source": []
  }
 ],
 "metadata": {
  "kernelspec": {
   "display_name": "Python 3 (ipykernel)",
   "language": "python",
   "name": "python3"
  },
  "language_info": {
   "codemirror_mode": {
    "name": "ipython",
    "version": 3
   },
   "file_extension": ".py",
   "mimetype": "text/x-python",
   "name": "python",
   "nbconvert_exporter": "python",
   "pygments_lexer": "ipython3",
   "version": "3.10.9"
  }
 },
 "nbformat": 4,
 "nbformat_minor": 5
}
