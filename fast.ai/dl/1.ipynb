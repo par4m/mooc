{
 "cells": [
  {
   "cell_type": "markdown",
   "id": "57bdf894-27b7-47b9-89a2-6a4b4d3a569c",
   "metadata": {
    "tags": []
   },
   "source": [
    "## Step 1: Download images of birds and non-birds"
   ]
  },
  {
   "cell_type": "code",
   "execution_count": 37,
   "id": "0d1a9b68-b498-42b0-a70a-80c53ca2f90f",
   "metadata": {},
   "outputs": [],
   "source": [
    "from duckduckgo_search import ddg_images  # Function to search for Images\n",
    "from fastcore.all import *  # L and itemgot etc\n",
    "from fastdownload import download_url  # Download from url\n",
    "from fastai.vision.all import *  # view images etc\n",
    "\n"
   ]
  },
  {
   "cell_type": "code",
   "execution_count": 38,
   "id": "f02c0da1-7dbb-4eff-8116-ac2538902d59",
   "metadata": {},
   "outputs": [],
   "source": [
    "def search_images(term, max_images=30):\n",
    "    print(f\"Searching for '{term}'\")\n",
    "    print()\n",
    "    return L(ddg_images(term, max_results=max_images)).itemgot(\"image\")\n"
   ]
  },
  {
   "cell_type": "code",
   "execution_count": null,
   "id": "9f17a435-49ff-4598-9c8a-d09cfa820c58",
   "metadata": {},
   "outputs": [],
   "source": []
  }
 ],
 "metadata": {
  "kernelspec": {
   "display_name": "Python 3 (ipykernel)",
   "language": "python",
   "name": "python3"
  },
  "language_info": {
   "codemirror_mode": {
    "name": "ipython",
    "version": 3
   },
   "file_extension": ".py",
   "mimetype": "text/x-python",
   "name": "python",
   "nbconvert_exporter": "python",
   "pygments_lexer": "ipython3",
   "version": "3.10.9"
  }
 },
 "nbformat": 4,
 "nbformat_minor": 5
}
